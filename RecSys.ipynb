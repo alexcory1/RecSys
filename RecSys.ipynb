{
 "cells": [
  {
   "cell_type": "code",
   "execution_count": 1,
   "id": "e75c7c3c",
   "metadata": {},
   "outputs": [],
   "source": [
    "import kaggle # Kaggle API for downloading datasets\n",
    "import os # os for file operations\n",
    "import zipfile # Extracting zip files\n",
    "import pandas as pd \n",
    "import numpy as np \n",
    "from sklearn.preprocessing import LabelEncoder # Data handling libraries\n",
    "import torch # Deep learning library\n",
    "from torch.utils.data import Dataset, DataLoader # PyTorch utilities for data loading\n",
    "import torch.nn as nn\n",
    "from sklearn.model_selection import train_test_split\n",
    "\n"
   ]
  },
  {
   "cell_type": "code",
   "execution_count": 2,
   "id": "289c6747",
   "metadata": {},
   "outputs": [
    {
     "name": "stdout",
     "output_type": "stream",
     "text": [
      "Dataset URL: https://www.kaggle.com/datasets/arashnic/book-recommendation-dataset\n",
      "License(s): CC0-1.0\n",
      "Downloading book-recommendation-dataset.zip to /Users/alexcory/RecSys\n",
      "\n"
     ]
    },
    {
     "name": "stderr",
     "output_type": "stream",
     "text": [
      "100%|██████████| 24.3M/24.3M [00:00<00:00, 767MB/s]\n"
     ]
    }
   ],
   "source": [
    "# Set the Kaggle API key environmental variable before running the command\n",
    "# Downloads dataset from Kaggle \n",
    "\n",
    "os.system('kaggle datasets download -d arashnic/book-recommendation-dataset')\n",
    "\n",
    "# Unzip the downloaded dataset\n",
    "\n",
    "with zipfile.ZipFile('book-recommendation-dataset.zip', 'r') as zip_ref:\n",
    "    zip_ref.extractall('book-recommendation-dataset')\n",
    "\n",
    "# Remove the zip file after extraction\n",
    "os.remove('book-recommendation-dataset.zip')\n"
   ]
  },
  {
   "cell_type": "code",
   "execution_count": 3,
   "id": "d1c1dd49",
   "metadata": {},
   "outputs": [
    {
     "name": "stderr",
     "output_type": "stream",
     "text": [
      "/var/folders/lt/bw6r3snx43x5hctrgyvr5vmr0000gn/T/ipykernel_9629/2080199567.py:2: DtypeWarning: Columns (3) have mixed types. Specify dtype option on import or set low_memory=False.\n",
      "  raw_books = pd.read_csv('book-recommendation-dataset/Books.csv')\n"
     ]
    }
   ],
   "source": [
    "\n",
    "# Load the dataset into a pandas DataFrame\n",
    "raw_books = pd.read_csv('book-recommendation-dataset/Books.csv')\n",
    "raw_users = pd.read_csv('book-recommendation-dataset/Users.csv')\n",
    "raw_ratings = pd.read_csv('book-recommendation-dataset/Ratings.csv')\n"
   ]
  },
  {
   "cell_type": "code",
   "execution_count": 4,
   "id": "4077b093",
   "metadata": {},
   "outputs": [
    {
     "data": {
      "application/vnd.microsoft.datawrangler.viewer.v0+json": {
       "columns": [
        {
         "name": "index",
         "rawType": "int64",
         "type": "integer"
        },
        {
         "name": "User-ID",
         "rawType": "int64",
         "type": "integer"
        },
        {
         "name": "ISBN",
         "rawType": "object",
         "type": "string"
        },
        {
         "name": "Book-Rating",
         "rawType": "int64",
         "type": "integer"
        }
       ],
       "ref": "457b8a52-352f-4466-97b4-8fcb071ce563",
       "rows": [
        [
         "0",
         "276725",
         "034545104X",
         "0"
        ],
        [
         "1",
         "276726",
         "0155061224",
         "5"
        ],
        [
         "2",
         "276727",
         "0446520802",
         "0"
        ],
        [
         "3",
         "276729",
         "052165615X",
         "3"
        ],
        [
         "4",
         "276729",
         "0521795028",
         "6"
        ]
       ],
       "shape": {
        "columns": 3,
        "rows": 5
       }
      },
      "text/html": [
       "<div>\n",
       "<style scoped>\n",
       "    .dataframe tbody tr th:only-of-type {\n",
       "        vertical-align: middle;\n",
       "    }\n",
       "\n",
       "    .dataframe tbody tr th {\n",
       "        vertical-align: top;\n",
       "    }\n",
       "\n",
       "    .dataframe thead th {\n",
       "        text-align: right;\n",
       "    }\n",
       "</style>\n",
       "<table border=\"1\" class=\"dataframe\">\n",
       "  <thead>\n",
       "    <tr style=\"text-align: right;\">\n",
       "      <th></th>\n",
       "      <th>User-ID</th>\n",
       "      <th>ISBN</th>\n",
       "      <th>Book-Rating</th>\n",
       "    </tr>\n",
       "  </thead>\n",
       "  <tbody>\n",
       "    <tr>\n",
       "      <th>0</th>\n",
       "      <td>276725</td>\n",
       "      <td>034545104X</td>\n",
       "      <td>0</td>\n",
       "    </tr>\n",
       "    <tr>\n",
       "      <th>1</th>\n",
       "      <td>276726</td>\n",
       "      <td>0155061224</td>\n",
       "      <td>5</td>\n",
       "    </tr>\n",
       "    <tr>\n",
       "      <th>2</th>\n",
       "      <td>276727</td>\n",
       "      <td>0446520802</td>\n",
       "      <td>0</td>\n",
       "    </tr>\n",
       "    <tr>\n",
       "      <th>3</th>\n",
       "      <td>276729</td>\n",
       "      <td>052165615X</td>\n",
       "      <td>3</td>\n",
       "    </tr>\n",
       "    <tr>\n",
       "      <th>4</th>\n",
       "      <td>276729</td>\n",
       "      <td>0521795028</td>\n",
       "      <td>6</td>\n",
       "    </tr>\n",
       "  </tbody>\n",
       "</table>\n",
       "</div>"
      ],
      "text/plain": [
       "   User-ID        ISBN  Book-Rating\n",
       "0   276725  034545104X            0\n",
       "1   276726  0155061224            5\n",
       "2   276727  0446520802            0\n",
       "3   276729  052165615X            3\n",
       "4   276729  0521795028            6"
      ]
     },
     "execution_count": 4,
     "metadata": {},
     "output_type": "execute_result"
    }
   ],
   "source": [
    "raw_books.head() \n",
    "raw_users.head()\n",
    "raw_ratings.head()  "
   ]
  },
  {
   "cell_type": "code",
   "execution_count": 5,
   "id": "f04d12b5",
   "metadata": {},
   "outputs": [],
   "source": [
    "ratings = raw_ratings.copy()\n",
    "ratings = ratings[ratings['Book-Rating'] > 0] # Filter out ratings with a rating of 0 - Not read\n",
    "ratings['Book-Rating'] = ratings['Book-Rating'] / 10.0 # Normalize ratings to a scale of 0 to 1\n",
    "\n",
    "train_df, test_df = train_test_split(\n",
    "    ratings,\n",
    "    test_size=0.2,\n",
    "    random_state=5\n",
    ")"
   ]
  },
  {
   "cell_type": "code",
   "execution_count": 6,
   "id": "25d85b81",
   "metadata": {},
   "outputs": [],
   "source": [
    "user_enc = LabelEncoder()\n",
    "item_enc = LabelEncoder()\n",
    "\n",
    "train_df['user'] = user_enc.fit_transform(train_df['User-ID'])\n",
    "train_df['item'] = item_enc.fit_transform(train_df['ISBN'])\n",
    "\n",
    "test_df = test_df[\n",
    "    test_df['User-ID'].isin(user_enc.classes_) & \n",
    "    test_df['ISBN'].isin(item_enc.classes_)\n",
    "]\n",
    "test_df['user'] = user_enc.transform(test_df['User-ID'])\n",
    "test_df['item'] = item_enc.transform(test_df['ISBN'])\n",
    "\n",
    "\n",
    "num_users = len(user_enc.classes_)\n",
    "num_items = len(item_enc.classes_)"
   ]
  },
  {
   "cell_type": "code",
   "execution_count": 7,
   "id": "bcf61a92",
   "metadata": {},
   "outputs": [],
   "source": [
    "class RatingsDataset(Dataset):\n",
    "    def __init__(self, ratings):\n",
    "        self.users = torch.tensor(ratings['user'].values, dtype=torch.long)\n",
    "        self.items = torch.tensor(ratings['item'].values, dtype=torch.long)\n",
    "        self.ratings = torch.tensor(ratings['Book-Rating'].values, dtype=torch.float32)\n",
    "\n",
    "    def __len__(self):\n",
    "        return len(self.ratings)\n",
    "\n",
    "    def __getitem__(self, idx):\n",
    "        return self.users[idx], self.items[idx], self.ratings[idx]\n",
    "\n",
    "train_dataset = RatingsDataset(train_df)\n",
    "test_dataset = RatingsDataset(test_df)\n",
    "\n",
    "# Create dataloaders\n",
    "train_loader = DataLoader(train_dataset, batch_size=512, shuffle=True)\n",
    "test_loader = DataLoader(test_dataset, batch_size=512, shuffle=False)\n"
   ]
  },
  {
   "cell_type": "code",
   "execution_count": 8,
   "id": "786bb676",
   "metadata": {},
   "outputs": [],
   "source": [
    "\n",
    "class NeuralCF(nn.Module):\n",
    "    def __init__(self, num_users, num_items, embed_dim=64):\n",
    "        super().__init__()\n",
    "        self.user_embed = nn.Embedding(num_users, embed_dim)\n",
    "        self.item_embed = nn.Embedding(num_items, embed_dim)\n",
    "\n",
    "        self.fc_layers = nn.Sequential(\n",
    "            nn.Linear(embed_dim * 2, 128),\n",
    "            nn.ReLU(),\n",
    "            nn.Dropout(0.2),\n",
    "            nn.Linear(128, 64),\n",
    "            nn.ReLU(),\n",
    "            nn.Linear(64, 1)\n",
    "        )\n",
    "\n",
    "    def forward(self, user, item):\n",
    "        user_vec = self.user_embed(user)\n",
    "        item_vec = self.item_embed(item)\n",
    "        x = torch.cat([user_vec, item_vec], dim=1)\n",
    "        return self.fc_layers(x).squeeze()"
   ]
  },
  {
   "cell_type": "code",
   "execution_count": 9,
   "id": "ef82ed65",
   "metadata": {},
   "outputs": [
    {
     "name": "stdout",
     "output_type": "stream",
     "text": [
      "Epoch 1 | Train Loss: 0.0392 | Test Loss: 0.0309\n",
      "Saved new best model with test loss: 0.0309\n",
      "Epoch 2 | Train Loss: 0.0312 | Test Loss: 0.0293\n",
      "Saved new best model with test loss: 0.0293\n",
      "Epoch 3 | Train Loss: 0.0290 | Test Loss: 0.0300\n",
      "Epoch 4 | Train Loss: 0.0272 | Test Loss: 0.0282\n",
      "Saved new best model with test loss: 0.0282\n",
      "Epoch 5 | Train Loss: 0.0254 | Test Loss: 0.0276\n",
      "Saved new best model with test loss: 0.0276\n",
      "Epoch 6 | Train Loss: 0.0237 | Test Loss: 0.0276\n",
      "Saved new best model with test loss: 0.0276\n",
      "Epoch 7 | Train Loss: 0.0219 | Test Loss: 0.0277\n",
      "Epoch 8 | Train Loss: 0.0202 | Test Loss: 0.0285\n",
      "Epoch 9 | Train Loss: 0.0186 | Test Loss: 0.0287\n",
      "Epoch 10 | Train Loss: 0.0172 | Test Loss: 0.0291\n"
     ]
    }
   ],
   "source": [
    "model = NeuralCF(num_users, num_items)\n",
    "optimizer = torch.optim.Adam(model.parameters(), lr=0.001)\n",
    "criterion = nn.MSELoss()\n",
    "\n",
    "best_loss = float('inf')\n",
    "for epoch in range(10):\n",
    "    # Training phase\n",
    "    model.train()\n",
    "    train_loss = 0\n",
    "    for user, item, rating in train_loader:\n",
    "        optimizer.zero_grad()\n",
    "        pred = model(user, item)\n",
    "        loss = criterion(pred, rating)\n",
    "        loss.backward()\n",
    "        optimizer.step()\n",
    "        train_loss += loss.item() * len(rating)\n",
    "    \n",
    "    avg_train_loss = train_loss / len(train_loader.dataset)\n",
    "    \n",
    "    # Evaluation phase\n",
    "    model.eval()\n",
    "    test_loss = 0\n",
    "    with torch.no_grad():\n",
    "        for user, item, rating in test_loader:\n",
    "            pred = model(user, item)\n",
    "            loss = criterion(pred, rating)\n",
    "            test_loss += loss.item() * len(rating)\n",
    "    \n",
    "    avg_test_loss = test_loss / len(test_loader.dataset)\n",
    "    \n",
    "    print(f\"Epoch {epoch+1} | Train Loss: {avg_train_loss:.4f} | Test Loss: {avg_test_loss:.4f}\")\n",
    "    \n",
    "    if avg_test_loss < best_loss:\n",
    "        best_loss = avg_test_loss\n",
    "        torch.save(model.state_dict(), \"best_model.pt\")\n",
    "        print(f\"Saved new best model with test loss: {best_loss:.4f}\")\n"
   ]
  },
  {
   "cell_type": "code",
   "execution_count": 10,
   "id": "9085f04e",
   "metadata": {},
   "outputs": [],
   "source": [
    "def recommend_for_user(user_id, top_n=10):\n",
    "    model.load_state_dict(torch.load(\"best_model.pt\"))\n",
    "    model.eval()\n",
    "    \n",
    "    # Handle unknown users\n",
    "    if user_id not in user_enc.classes_:\n",
    "        return f\"User {user_id} not seen during training\"\n",
    "    \n",
    "    user_idx = user_enc.transform([user_id])[0]\n",
    "    item_indices = torch.arange(num_items)\n",
    "    user_tensor = torch.full_like(item_indices, user_idx)\n",
    "\n",
    "    with torch.no_grad():\n",
    "        preds = model(user_tensor, item_indices)\n",
    "\n",
    "    top_items = torch.topk(preds, top_n).indices\n",
    "    recommended_book_ids = item_enc.inverse_transform(top_items.numpy())\n",
    "    return recommended_book_ids"
   ]
  }
 ],
 "metadata": {
  "kernelspec": {
   "display_name": ".venv",
   "language": "python",
   "name": "python3"
  },
  "language_info": {
   "codemirror_mode": {
    "name": "ipython",
    "version": 3
   },
   "file_extension": ".py",
   "mimetype": "text/x-python",
   "name": "python",
   "nbconvert_exporter": "python",
   "pygments_lexer": "ipython3",
   "version": "3.11.13"
  }
 },
 "nbformat": 4,
 "nbformat_minor": 5
}
