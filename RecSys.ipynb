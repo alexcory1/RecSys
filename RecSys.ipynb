{
 "cells": [
  {
   "cell_type": "code",
   "execution_count": null,
   "id": "e75c7c3c",
   "metadata": {},
   "outputs": [],
   "source": [
    "# %pip install kaggle\n",
    "import kaggle # Kaggle API for downloading datasets\n",
    "import os # os for file operations\n",
    "import zipfile # Extracting zip files\n",
    "import pandas as pd \n",
    "import numpy as np \n",
    "from sklearn.preprocessing import LabelEncoder # Data handling libraries\n",
    "import torch # Deep learning library\n",
    "from torch.utils.data import Dataset, DataLoader # PyTorch utilities for data loading\n"
   ]
  },
  {
   "cell_type": "code",
   "execution_count": null,
   "id": "289c6747",
   "metadata": {},
   "outputs": [
    {
     "name": "stdout",
     "output_type": "stream",
     "text": [
      "Dataset URL: https://www.kaggle.com/datasets/arashnic/book-recommendation-dataset\n",
      "License(s): CC0-1.0\n",
      "Downloading book-recommendation-dataset.zip to /Users/alexcory/RecSys\n",
      "  0%|                                               | 0.00/24.3M [00:00<?, ?B/s]\n",
      "100%|██████████████████████████████████████| 24.3M/24.3M [00:00<00:00, 1.91GB/s]\n"
     ]
    }
   ],
   "source": [
    "# Set the Kaggle API key environmental variable before running the command\n",
    "# Downloads dataset from Kaggle \n",
    "\n",
    "!kaggle datasets download -d arashnic/book-recommendation-dataset\n",
    "\n",
    "# Unzip the downloaded dataset\n",
    "\n",
    "with zipfile.ZipFile('book-recommendation-dataset.zip', 'r') as zip_ref:\n",
    "    zip_ref.extractall('book-recommendation-dataset')\n",
    "\n",
    "# Remove the zip file after extraction\n",
    "os.remove('book-recommendation-dataset.zip')\n"
   ]
  },
  {
   "cell_type": "code",
   "execution_count": 18,
   "id": "d1c1dd49",
   "metadata": {},
   "outputs": [
    {
     "name": "stderr",
     "output_type": "stream",
     "text": [
      "/var/folders/lt/bw6r3snx43x5hctrgyvr5vmr0000gn/T/ipykernel_77678/2080199567.py:3: DtypeWarning: Columns (3) have mixed types. Specify dtype option on import or set low_memory=False.\n",
      "  raw_books = pd.read_csv('book-recommendation-dataset/Books.csv')\n"
     ]
    }
   ],
   "source": [
    "\n",
    "# Load the dataset into a pandas DataFrame\n",
    "raw_books = pd.read_csv('book-recommendation-dataset/Books.csv')\n",
    "raw_users = pd.read_csv('book-recommendation-dataset/Users.csv')\n",
    "raw_ratings = pd.read_csv('book-recommendation-dataset/Ratings.csv')\n"
   ]
  },
  {
   "cell_type": "code",
   "execution_count": null,
   "id": "4077b093",
   "metadata": {},
   "outputs": [
    {
     "data": {
      "text/html": [
       "<div>\n",
       "<style scoped>\n",
       "    .dataframe tbody tr th:only-of-type {\n",
       "        vertical-align: middle;\n",
       "    }\n",
       "\n",
       "    .dataframe tbody tr th {\n",
       "        vertical-align: top;\n",
       "    }\n",
       "\n",
       "    .dataframe thead th {\n",
       "        text-align: right;\n",
       "    }\n",
       "</style>\n",
       "<table border=\"1\" class=\"dataframe\">\n",
       "  <thead>\n",
       "    <tr style=\"text-align: right;\">\n",
       "      <th></th>\n",
       "      <th>User-ID</th>\n",
       "      <th>ISBN</th>\n",
       "      <th>Book-Rating</th>\n",
       "    </tr>\n",
       "  </thead>\n",
       "  <tbody>\n",
       "    <tr>\n",
       "      <th>0</th>\n",
       "      <td>276725</td>\n",
       "      <td>034545104X</td>\n",
       "      <td>0</td>\n",
       "    </tr>\n",
       "    <tr>\n",
       "      <th>1</th>\n",
       "      <td>276726</td>\n",
       "      <td>0155061224</td>\n",
       "      <td>5</td>\n",
       "    </tr>\n",
       "    <tr>\n",
       "      <th>2</th>\n",
       "      <td>276727</td>\n",
       "      <td>0446520802</td>\n",
       "      <td>0</td>\n",
       "    </tr>\n",
       "    <tr>\n",
       "      <th>3</th>\n",
       "      <td>276729</td>\n",
       "      <td>052165615X</td>\n",
       "      <td>3</td>\n",
       "    </tr>\n",
       "    <tr>\n",
       "      <th>4</th>\n",
       "      <td>276729</td>\n",
       "      <td>0521795028</td>\n",
       "      <td>6</td>\n",
       "    </tr>\n",
       "  </tbody>\n",
       "</table>\n",
       "</div>"
      ],
      "text/plain": [
       "   User-ID        ISBN  Book-Rating\n",
       "0   276725  034545104X            0\n",
       "1   276726  0155061224            5\n",
       "2   276727  0446520802            0\n",
       "3   276729  052165615X            3\n",
       "4   276729  0521795028            6"
      ]
     },
     "execution_count": 17,
     "metadata": {},
     "output_type": "execute_result"
    }
   ],
   "source": [
    "raw_books.head() \n",
    "raw_users.head()\n",
    "raw_ratings.head()  "
   ]
  }
 ],
 "metadata": {
  "kernelspec": {
   "display_name": ".venv",
   "language": "python",
   "name": "python3"
  },
  "language_info": {
   "codemirror_mode": {
    "name": "ipython",
    "version": 3
   },
   "file_extension": ".py",
   "mimetype": "text/x-python",
   "name": "python",
   "nbconvert_exporter": "python",
   "pygments_lexer": "ipython3",
   "version": "3.13.5"
  }
 },
 "nbformat": 4,
 "nbformat_minor": 5
}
